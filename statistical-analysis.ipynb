{
 "cells": [
  {
   "cell_type": "markdown",
   "metadata": {},
   "source": [
    "Выполнял Достовалов Максим"
   ]
  },
  {
   "cell_type": "code",
   "execution_count": 67,
   "metadata": {},
   "outputs": [],
   "source": [
    "import numpy as np\n",
    "import pandas as pd\n",
    "import matplotlib.pyplot as plt\n",
    "import seaborn as sns\n",
    "import statsmodels.formula.api as sm\n",
    "from scipy import stats\n",
    "from scipy import special\n",
    "\n",
    "import warnings\n",
    "warnings.filterwarnings(\"ignore\")"
   ]
  },
  {
   "cell_type": "code",
   "execution_count": 68,
   "metadata": {},
   "outputs": [
    {
     "data": {
      "text/html": [
       "<div>\n",
       "<style scoped>\n",
       "    .dataframe tbody tr th:only-of-type {\n",
       "        vertical-align: middle;\n",
       "    }\n",
       "\n",
       "    .dataframe tbody tr th {\n",
       "        vertical-align: top;\n",
       "    }\n",
       "\n",
       "    .dataframe thead th {\n",
       "        text-align: right;\n",
       "    }\n",
       "</style>\n",
       "<table border=\"1\" class=\"dataframe\">\n",
       "  <thead>\n",
       "    <tr style=\"text-align: right;\">\n",
       "      <th></th>\n",
       "      <th>ID loan</th>\n",
       "      <th>ID client</th>\n",
       "      <th>LoanSum</th>\n",
       "      <th>LoanTerm</th>\n",
       "      <th>pdn</th>\n",
       "      <th>FPD10</th>\n",
       "      <th>FPD30</th>\n",
       "      <th>NPL10</th>\n",
       "      <th>NPL30</th>\n",
       "      <th>old_user</th>\n",
       "    </tr>\n",
       "  </thead>\n",
       "  <tbody>\n",
       "    <tr>\n",
       "      <th>0</th>\n",
       "      <td>1</td>\n",
       "      <td>1000</td>\n",
       "      <td>6000</td>\n",
       "      <td>25</td>\n",
       "      <td>11862.10</td>\n",
       "      <td>0</td>\n",
       "      <td>0</td>\n",
       "      <td>0</td>\n",
       "      <td>0</td>\n",
       "      <td>0</td>\n",
       "    </tr>\n",
       "    <tr>\n",
       "      <th>1</th>\n",
       "      <td>2</td>\n",
       "      <td>1001</td>\n",
       "      <td>9900</td>\n",
       "      <td>30</td>\n",
       "      <td>70.48</td>\n",
       "      <td>0</td>\n",
       "      <td>0</td>\n",
       "      <td>0</td>\n",
       "      <td>0</td>\n",
       "      <td>1</td>\n",
       "    </tr>\n",
       "    <tr>\n",
       "      <th>2</th>\n",
       "      <td>3</td>\n",
       "      <td>1002</td>\n",
       "      <td>9900</td>\n",
       "      <td>30</td>\n",
       "      <td>58.60</td>\n",
       "      <td>0</td>\n",
       "      <td>0</td>\n",
       "      <td>0</td>\n",
       "      <td>0</td>\n",
       "      <td>1</td>\n",
       "    </tr>\n",
       "    <tr>\n",
       "      <th>3</th>\n",
       "      <td>4</td>\n",
       "      <td>1003</td>\n",
       "      <td>5000</td>\n",
       "      <td>25</td>\n",
       "      <td>679.65</td>\n",
       "      <td>1</td>\n",
       "      <td>0</td>\n",
       "      <td>1</td>\n",
       "      <td>1</td>\n",
       "      <td>0</td>\n",
       "    </tr>\n",
       "    <tr>\n",
       "      <th>4</th>\n",
       "      <td>5</td>\n",
       "      <td>1004</td>\n",
       "      <td>6000</td>\n",
       "      <td>20</td>\n",
       "      <td>875.48</td>\n",
       "      <td>1</td>\n",
       "      <td>1</td>\n",
       "      <td>1</td>\n",
       "      <td>1</td>\n",
       "      <td>0</td>\n",
       "    </tr>\n",
       "  </tbody>\n",
       "</table>\n",
       "</div>"
      ],
      "text/plain": [
       "   ID loan  ID client  LoanSum  LoanTerm       pdn  FPD10  FPD30  NPL10  \\\n",
       "0        1       1000     6000        25  11862.10      0      0      0   \n",
       "1        2       1001     9900        30     70.48      0      0      0   \n",
       "2        3       1002     9900        30     58.60      0      0      0   \n",
       "3        4       1003     5000        25    679.65      1      0      1   \n",
       "4        5       1004     6000        20    875.48      1      1      1   \n",
       "\n",
       "   NPL30  old_user  \n",
       "0      0         0  \n",
       "1      0         1  \n",
       "2      0         1  \n",
       "3      1         0  \n",
       "4      1         0  "
      ]
     },
     "execution_count": 68,
     "metadata": {},
     "output_type": "execute_result"
    }
   ],
   "source": [
    "data = pd.read_excel('pdn_hse_with_flags.xlsx')\n",
    "\n",
    "data.head()"
   ]
  },
  {
   "cell_type": "markdown",
   "metadata": {},
   "source": [
    "# Предобработка данных"
   ]
  },
  {
   "cell_type": "code",
   "execution_count": 69,
   "metadata": {},
   "outputs": [
    {
     "data": {
      "text/plain": [
       "<Axes: xlabel='pdn', ylabel='Density'>"
      ]
     },
     "execution_count": 69,
     "metadata": {},
     "output_type": "execute_result"
    },
    {
     "data": {
      "image/png": "[encoded data removed]",
      "text/plain": [
       "<Figure size 640x480 with 1 Axes>"
      ]
     },
     "metadata": {},
     "output_type": "display_data"
    }
   ],
   "source": [
    "sns.kdeplot(data.pdn)"
   ]
  },
  {
   "cell_type": "markdown",
   "metadata": {},
   "source": [
    "В исследовании переменная \"pdn\" демонстрирует наличие значительных выбросов, что усложняет её аналитическую обработку в первоначальном виде. Для целей данного анализа, наблюдения с значениями превышающими 10,000 будут классифицированы как выбросы.\n",
    "\n",
    "В связи с этим, для стабилизации дисперсии и уменьшения асимметрии распределения, а также для приближения его формы к нормальному распределению, будет применено преобразование Бокса-Кокса к данной переменной. Это преобразование целенаправленно используется для обработки данных, подверженных сильным искажениям, и является методологически обоснованным подходом к решению подобных проблем анализа данных."
   ]
  },
  {
   "cell_type": "code",
   "execution_count": 70,
   "metadata": {},
   "outputs": [
    {
     "name": "stdout",
     "output_type": "stream",
     "text": [
      "Количество удалённых выбросов: 46\n"
     ]
    }
   ],
   "source": [
    "print(f'Количество удалённых выбросов: {(data.pdn > 10000).sum()}')"
   ]
  },
  {
   "cell_type": "code",
   "execution_count": 71,
   "metadata": {},
   "outputs": [
    {
     "name": "stdout",
     "output_type": "stream",
     "text": [
      "\n",
      "      lambda_=-0.032\n",
      "это параметр преобразования, который подбирается автоматически таким образом, чтобы максимизировать логарифмическое правдоподобие нормального распределения преобразованных данных.\n",
      "\n",
      "Согласно тесту Шапиро-Уилка (p_value=0.0002), распределение pdn всё ещё не яваляется нормальным, но проведение статистических тестов по преобразованной переменной считается более адекватным подходом по сравнению с анализом исходных данных\n",
      "\n"
     ]
    },
    {
     "data": {
      "image/png": "[encoded data removed]",
      "text/plain": [
       "<Figure size 640x480 with 1 Axes>"
      ]
     },
     "metadata": {},
     "output_type": "display_data"
    }
   ],
   "source": [
    "data = data[data.pdn < 10000]\n",
    "data['pdn_boxcox'], lambda_ = stats.boxcox(data.pdn)\n",
    "sns.kdeplot(data.pdn_boxcox)\n",
    "\n",
    "print(f'''\n",
    "      {lambda_=:.3f}\n",
    "это параметр преобразования, который подбирается автоматически таким образом, чтобы максимизировать логарифмическое правдоподобие нормального распределения преобразованных данных.\n",
    "\n",
    "Согласно тесту Шапиро-Уилка (p_value={stats.shapiro(data.pdn_boxcox)[1]:.4f}), распределение pdn всё ещё не яваляется нормальным, но проведение статистических тестов по преобразованной переменной считается более адекватным подходом по сравнению с анализом исходных данных\n",
    "''')"
   ]
  },
  {
   "cell_type": "markdown",
   "metadata": {},
   "source": [
    "### Регрессионный анализ. Регрессант - pdn\n",
    "\n",
    "`Гипотеза`: возможно построить значимую регрессию на соотношение долга к доходу по всем имеющимся переменным\n",
    "\n",
    "`Пометка`: \n",
    "- для правильной интерпретации моделей в дальнейшем будут использоваться робастные оценки дисперсии оценок (HC3)\n",
    "- все коэффициенты будут интерпретироваться с учетом уровня значимости 5%"
   ]
  },
  {
   "cell_type": "markdown",
   "metadata": {},
   "source": [
    "#### Простейшая модель для интерпретации"
   ]
  },
  {
   "cell_type": "code",
   "execution_count": 72,
   "metadata": {},
   "outputs": [
    {
     "name": "stdout",
     "output_type": "stream",
     "text": [
      "                    Results: Ordinary least squares\n",
      "=======================================================================\n",
      "Model:                OLS               Adj. R-squared:      0.067     \n",
      "Dependent Variable:   pdn               AIC:                 86921.1123\n",
      "Date:                 2024-03-13 22:40  BIC:                 86973.7160\n",
      "No. Observations:     5300              Log-Likelihood:      -43453.   \n",
      "Df Model:             7                 F-statistic:         68.40     \n",
      "Df Residuals:         5292              Prob (F-statistic):  6.30e-95  \n",
      "R-squared:            0.068             Scale:               7.7516e+05\n",
      "-----------------------------------------------------------------------\n",
      "                   Coef.   Std.Err.    z     P>|z|    [0.025    0.975] \n",
      "-----------------------------------------------------------------------\n",
      "Intercept        1215.8371  74.9723  16.2171 0.0000 1068.8940 1362.7802\n",
      "LoanSum            -0.0714   0.0059 -12.1926 0.0000   -0.0829   -0.0599\n",
      "old_user         -724.9127  70.6814 -10.2561 0.0000 -863.4458 -586.3797\n",
      "LoanSum:old_user    0.0524   0.0061   8.5574 0.0000    0.0404    0.0645\n",
      "LoanTerm            1.2832   1.6742   0.7665 0.4434   -1.9981    4.5645\n",
      "FPD10            -124.9870  52.8970  -2.3628 0.0181 -228.6631  -21.3108\n",
      "NPL10              82.1834  58.6090   1.4022 0.1608  -32.6881  197.0549\n",
      "NPL30             164.0421  49.2612   3.3300 0.0009   67.4919  260.5923\n",
      "-----------------------------------------------------------------------\n",
      "Omnibus:              5430.219       Durbin-Watson:          1.993     \n",
      "Prob(Omnibus):        0.000          Jarque-Bera (JB):       312485.015\n",
      "Skew:                 5.136          Prob(JB):               0.000     \n",
      "Kurtosis:             39.187         Condition No.:          85811     \n",
      "=======================================================================\n",
      "* The condition number is large (9e+04). This might indicate\n",
      "strong multicollinearity or other numerical problems.\n"
     ]
    }
   ],
   "source": [
    "model = sm.ols(data=data, formula='pdn ~ LoanSum*old_user + LoanTerm + FPD10 + NPL10 + NPL30').fit(cov_type='HC3')\n",
    "\n",
    "print(model.summary2())"
   ]
  },
  {
   "cell_type": "markdown",
   "metadata": {},
   "source": [
    "Результат:\n",
    "- Модель регрессии демонстрирует статистическую значимость в целом, однако коэффициент детерминации, отражающий долю объясненной дисперсии зависимой переменной, указывает на ограниченную объяснительную способность модели.\n",
    "\n",
    "- 2 незначимые переменные: LoanTerm и NPL10 (в дальнейшем интерпретированы только значимые).\n",
    "- переменная NPL30 имеют положительную связь с целевой переменной.\n",
    "- переменные LoanSum, FPD10, NPL30, old_user имеют отрицательную связь с целевой переменной.\n",
    "- оказалось важной связь между суммой кредита и тем, давним ли клиентом является пользователь. Для давних пользователей сумма кредита слабее влияет на отношение долга к доходу.\n",
    "\n",
    "Вывод:\n",
    "- Хорошим качеством этой модели является простая интерпретируемость коэффициентов, но при этом жертвой является её объясняющая способность\n",
    "\n",
    "`Гипотеза`: \n",
    "- спецификация модели порождающей данные нелинейна, соответственно, если провести нелинейные преобразования с переменными, можно получить модель лучше\n",
    "- предсказания преобразованной по Боксу-Коксу целевой переменной даст модель лучшего качества"
   ]
  },
  {
   "cell_type": "markdown",
   "metadata": {},
   "source": [
    "#### Модель с преобразованной целевой переменной"
   ]
  },
  {
   "cell_type": "markdown",
   "metadata": {},
   "source": [
    "- Предварительно осознавая, что коэффициенты подобной модели регрессии не поддаются количественной интерпретации, всё же возможно оценить степень влияния независимых переменных на зависимую переменную.\n",
    "\n",
    "Для этого стандартизирую регрессоры (с целью получить регрессоры, имеющие одни и те же единицы измерения):"
   ]
  },
  {
   "cell_type": "code",
   "execution_count": 73,
   "metadata": {},
   "outputs": [],
   "source": [
    "from sklearn.preprocessing import StandardScaler\n",
    "\n",
    "scaler = StandardScaler()\n",
    "\n",
    "data_scaled = data.drop(['ID loan', 'ID client', 'pdn'], axis=1).copy()\n",
    "\n",
    "data_scaled[['LoanSum', 'LoanTerm', 'FPD10', 'FPD30','NPL10', 'NPL30', 'old_user']]\\\n",
    "      = scaler.fit_transform(data_scaled[['LoanSum', 'LoanTerm', 'FPD10', 'FPD30','NPL10', 'NPL30', 'old_user']])"
   ]
  },
  {
   "cell_type": "markdown",
   "metadata": {},
   "source": [
    "Построение модели:"
   ]
  },
  {
   "cell_type": "code",
   "execution_count": 74,
   "metadata": {},
   "outputs": [
    {
     "name": "stdout",
     "output_type": "stream",
     "text": [
      "                  Results: Ordinary least squares\n",
      "===================================================================\n",
      "Model:              OLS              Adj. R-squared:     0.185     \n",
      "Dependent Variable: pdn_boxcox       AIC:                13700.2059\n",
      "Date:               2024-03-13 22:40 BIC:                13746.2341\n",
      "No. Observations:   5300             Log-Likelihood:     -6843.1   \n",
      "Df Model:           6                F-statistic:        246.2     \n",
      "Df Residuals:       5293             Prob (F-statistic): 2.02e-278 \n",
      "R-squared:          0.186            Scale:              0.77550   \n",
      "--------------------------------------------------------------------\n",
      "                Coef.   Std.Err.     z      P>|z|    [0.025   0.975]\n",
      "--------------------------------------------------------------------\n",
      "Intercept       5.0701    0.0121  418.9104  0.0000   5.0464   5.0938\n",
      "LoanSum        -0.2905    0.0107  -27.1556  0.0000  -0.3114  -0.2695\n",
      "old_user       -0.2075    0.0135  -15.3799  0.0000  -0.2340  -0.1811\n",
      "LoanTerm        0.0628    0.0132    4.7596  0.0000   0.0369   0.0886\n",
      "FPD10          -0.1009    0.0204   -4.9338  0.0000  -0.1410  -0.0608\n",
      "NPL10           0.1027    0.0265    3.8763  0.0001   0.0508   0.1547\n",
      "NPL30           0.1314    0.0211    6.2343  0.0000   0.0901   0.1727\n",
      "-------------------------------------------------------------------\n",
      "Omnibus:              32.224        Durbin-Watson:           1.958 \n",
      "Prob(Omnibus):        0.000         Jarque-Bera (JB):        46.478\n",
      "Skew:                 0.030         Prob(JB):                0.000 \n",
      "Kurtosis:             3.455         Condition No.:           5     \n",
      "===================================================================\n",
      "\n"
     ]
    }
   ],
   "source": [
    "model_boxcox = sm.ols(data=data_scaled, formula='pdn_boxcox ~ LoanSum + old_user + LoanTerm + FPD10 + NPL10 + NPL30').fit(cov_type='HC3')\n",
    "\n",
    "print(model_boxcox.summary2())"
   ]
  },
  {
   "cell_type": "markdown",
   "metadata": {},
   "source": [
    "`Интерпретация`:\n",
    "- видно, что модель стала лучше с точки зрения доли объяснённой дисперсии. Но R^2 является неинвариантным даже к линейным преобразованиям, поэтому сравнивать эту модель с предыдущей по этой метрике не является корректным\n",
    "-  "
   ]
  },
  {
   "cell_type": "code",
   "execution_count": 75,
   "metadata": {},
   "outputs": [
    {
     "name": "stdout",
     "output_type": "stream",
     "text": [
      "SMAPE (на сколько % в среднем отклоняется прогноз от реальных значений таргета): \n",
      "для модели без преобразования целевой переменной = 84.86%\n",
      "для модели c преобразованием целевой переменной = 13.79%\n",
      "      \n"
     ]
    }
   ],
   "source": [
    "def smape(y_true, y_pred):\n",
    "    \"\"\"\n",
    "    Расчет Symmetric Mean Absolute Percentage Error (SMAPE).\n",
    "\n",
    "    :param y_true: Массив реальных значений.\n",
    "    :param y_pred: Массив предсказанных значений.\n",
    "    :return: Значение SMAPE.\n",
    "    \"\"\"\n",
    "    denominator = (np.abs(y_true) + np.abs(y_pred)) / 2.0\n",
    "    diff = np.abs(y_true - y_pred) / denominator\n",
    "    diff[denominator == 0] = 0.0\n",
    "    return 100 * np.mean(diff)\n",
    "\n",
    "\n",
    "smape_value = smape(data.pdn, model.fittedvalues)\n",
    "smape_value_box_cox = smape(data.pdn_boxcox, model_boxcox.fittedvalues)\n",
    "\n",
    "print(f'''SMAPE (на сколько % в среднем отклоняется прогноз от реальных значений таргета): \n",
    "для модели без преобразования целевой переменной = {smape_value:.2f}%\n",
    "для модели c преобразованием целевой переменной = {smape_value_box_cox:.2f}%\n",
    "      ''')"
   ]
  }
 ],
 "metadata": {
  "kernelspec": {
   "display_name": "base",
   "language": "python",
   "name": "python3"
  },
  "language_info": {
   "codemirror_mode": {
    "name": "ipython",
    "version": 3
   },
   "file_extension": ".py",
   "mimetype": "text/x-python",
   "name": "python",
   "nbconvert_exporter": "python",
   "pygments_lexer": "ipython3",
   "version": "3.10.9"
  }
 },
 "nbformat": 4,
 "nbformat_minor": 2
}
